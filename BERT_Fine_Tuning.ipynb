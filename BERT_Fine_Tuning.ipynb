{
 "cells": [
  {
   "cell_type": "markdown",
   "metadata": {
    "id": "ROSg9T9EzYDf"
   },
   "source": [
    "# NLP Asignment 4 , Rutik Pol 0120180213"
   ]
  },
  {
   "cell_type": "markdown",
   "metadata": {
    "id": "Pm_hOK_uMPBL"
   },
   "source": [
    "# Video : https://www.youtube.com/watch?v=1KHzS83LIAU"
   ]
  },
  {
   "cell_type": "code",
   "execution_count": 8,
   "metadata": {
    "colab": {
     "base_uri": "https://localhost:8080/",
     "height": 306
    },
    "id": "LV210YNdrKIi",
    "outputId": "34965670-6fad-494d-b1ce-c290850a9f9b"
   },
   "outputs": [
    {
     "name": "stdout",
     "output_type": "stream",
     "text": [
      "Wed Mar 17 23:42:11 2021       \n",
      "+-----------------------------------------------------------------------------+\n",
      "| NVIDIA-SMI 461.92       Driver Version: 461.92       CUDA Version: 11.2     |\n",
      "|-------------------------------+----------------------+----------------------+\n",
      "| GPU  Name            TCC/WDDM | Bus-Id        Disp.A | Volatile Uncorr. ECC |\n",
      "| Fan  Temp  Perf  Pwr:Usage/Cap|         Memory-Usage | GPU-Util  Compute M. |\n",
      "|                               |                      |               MIG M. |\n",
      "|===============================+======================+======================|\n",
      "|   0  GeForce RTX 306... WDDM  | 00000000:2B:00.0  On |                  N/A |\n",
      "|  0%   36C    P8    13W / 220W |    566MiB /  8192MiB |      1%      Default |\n",
      "|                               |                      |                  N/A |\n",
      "+-------------------------------+----------------------+----------------------+\n",
      "                                                                               \n",
      "+-----------------------------------------------------------------------------+\n",
      "| Processes:                                                                  |\n",
      "|  GPU   GI   CI        PID   Type   Process name                  GPU Memory |\n",
      "|        ID   ID                                                   Usage      |\n",
      "|=============================================================================|\n",
      "|    0   N/A  N/A      1428    C+G   Insufficient Permissions        N/A      |\n",
      "|    0   N/A  N/A      4648    C+G   ...kyb3d8bbwe\\Calculator.exe    N/A      |\n",
      "|    0   N/A  N/A      8796    C+G   Insufficient Permissions        N/A      |\n",
      "|    0   N/A  N/A      9100    C+G   C:\\Windows\\explorer.exe         N/A      |\n",
      "|    0   N/A  N/A      9228    C+G   ...bbwe\\Microsoft.Photos.exe    N/A      |\n",
      "|    0   N/A  N/A      9416    C+G   ...h8wxbdkxb8p\\DCv2\\DCv2.exe    N/A      |\n",
      "|    0   N/A  N/A     10320    C+G   ...lPanel\\SystemSettings.exe    N/A      |\n",
      "|    0   N/A  N/A     11256    C+G   ...artMenuExperienceHost.exe    N/A      |\n",
      "|    0   N/A  N/A     11276    C+G   ...5n1h2txyewy\\SearchApp.exe    N/A      |\n",
      "|    0   N/A  N/A     13132    C+G   ...cw5n1h2txyewy\\LockApp.exe    N/A      |\n",
      "|    0   N/A  N/A     14184    C+G   ...ekyb3d8bbwe\\YourPhone.exe    N/A      |\n",
      "|    0   N/A  N/A     14256    C+G   ...y\\ShellExperienceHost.exe    N/A      |\n",
      "|    0   N/A  N/A     14432    C+G   ...perience\\NVIDIA Share.exe    N/A      |\n",
      "|    0   N/A  N/A     14492    C+G   ...me\\Application\\chrome.exe    N/A      |\n",
      "|    0   N/A  N/A     15900    C+G   ...nputApp\\TextInputHost.exe    N/A      |\n",
      "|    0   N/A  N/A     15908    C+G   ...wekyb3d8bbwe\\Music.UI.exe    N/A      |\n",
      "|    0   N/A  N/A     16380    C+G   ...wekyb3d8bbwe\\Video.UI.exe    N/A      |\n",
      "+-----------------------------------------------------------------------------+\n"
     ]
    }
   ],
   "source": [
    "!nvidia-smi"
   ]
  },
  {
   "cell_type": "code",
   "execution_count": 1,
   "metadata": {
    "id": "VLPwBaua6jf2"
   },
   "outputs": [
    {
     "name": "stderr",
     "output_type": "stream",
     "text": [
      "Using TensorFlow backend.\n"
     ]
    }
   ],
   "source": [
    "import os\n",
    "import math\n",
    "import datetime\n",
    "import time\n",
    "\n",
    "from tqdm import tqdm\n",
    "\n",
    "import pandas as pd\n",
    "import numpy as np\n",
    "\n",
    "import tensorflow as tf\n",
    "import keras\n",
    "\n",
    "import bert\n",
    "from bert import BertModelLayer\n",
    "from bert.loader import StockBertConfig, map_stock_config_to_params, load_stock_weights\n",
    "from bert.tokenization.bert_tokenization import FullTokenizer\n",
    "\n",
    "import seaborn as sns\n",
    "from pylab import rcParams\n",
    "import matplotlib.pyplot as plt\n",
    "from matplotlib.ticker import MaxNLocator\n",
    "from matplotlib import rc\n",
    "\n",
    "from sklearn.metrics import confusion_matrix, classification_report\n",
    "\n",
    "%matplotlib inline\n",
    "%config InlineBackend.figure_format='retina'\n",
    "\n",
    "sns.set(style='whitegrid', palette='muted', font_scale=1.2)\n",
    "\n",
    "HAPPY_COLORS_PALETTE = [\"#01BEFE\", \"#FFDD00\", \"#FF7D00\", \"#FF006D\", \"#ADFF02\", \"#8F00FF\"]\n",
    "\n",
    "sns.set_palette(sns.color_palette(HAPPY_COLORS_PALETTE))\n",
    "\n",
    "rcParams['figure.figsize'] = 12, 8\n",
    "\n",
    "#RANDOM_SEED = 42\n",
    "\n",
    "#np.random.seed(RANDOM_SEED)\n",
    "#tf.random.set_seed(RANDOM_SEED)"
   ]
  },
  {
   "cell_type": "code",
   "execution_count": 2,
   "metadata": {
    "id": "7ZZbEBHcMPBN",
    "outputId": "b8331165-35e6-46de-dbfe-82aee4d15396"
   },
   "outputs": [
    {
     "data": {
      "text/plain": [
       "'/device:GPU:0'"
      ]
     },
     "execution_count": 2,
     "metadata": {},
     "output_type": "execute_result"
    }
   ],
   "source": [
    "tf.test.gpu_device_name()"
   ]
  },
  {
   "cell_type": "code",
   "execution_count": 3,
   "metadata": {
    "id": "-gePrDuyMPBN",
    "outputId": "ebca2ecc-f11f-470c-abbc-e62a748136bc"
   },
   "outputs": [
    {
     "data": {
      "text/plain": [
       "'2.4.0'"
      ]
     },
     "execution_count": 3,
     "metadata": {},
     "output_type": "execute_result"
    }
   ],
   "source": [
    "tf.__version__"
   ]
  },
  {
   "cell_type": "markdown",
   "metadata": {
    "id": "CzkSXum8RzGM"
   },
   "source": [
    "# Data\n",
    "\n",
    "The data contains various user queries categorized into seven intents. It is hosted on [GitHub](https://github.com/snipsco/nlu-benchmark/tree/master/2017-06-custom-intent-engines) and is first presented in [this paper](https://arxiv.org/abs/1805.10190)."
   ]
  },
  {
   "cell_type": "code",
   "execution_count": 4,
   "metadata": {
    "id": "DndnsZtnMPBO"
   },
   "outputs": [],
   "source": [
    "define_sent = [\n",
    "    \"What do you know about \",\n",
    "    \"What is \",\n",
    "    \"What information do you've on \",\n",
    "    \"I wonder if you know about \",\n",
    "    \"Hey, What's \",\n",
    "    \"Do you've any idea about \",\n",
    "    \"Hey, what is \",\n",
    "    \"Can you tell me about \",\n",
    "    \"I need to know more on \",\n",
    "    \"Describe \",\n",
    "    \"What's \",\n",
    "    \"Do you know \",\n",
    "    \"Did you know \",\n",
    "    \"Can't figure out \",\n",
    "    \"Help me with \",\n",
    "    \"Search \",\n",
    "    \"Find out about \",\n",
    "    \"Find me more on \",\n",
    "    \"Get me information on \",\n",
    "    \"Let me know about \",\n",
    "    \"What exactly is \",\n",
    "    \"I don't understand \",\n",
    "    \"I can't figure out \",\n",
    "    \"I wish I could know about \",\n",
    "    \"Can somebody tell me about \",\n",
    "    \"Damn! What is \",\n",
    "    \"Explain \",\n",
    "    \"Illustrate \", \n",
    "    \"I want details on \",\n",
    "    \"Outline \",\n",
    "    \"Report on \",\n",
    "    \"Figure out \",\n",
    "    \"Google \",\n",
    "    \"Search \",\n",
    "    ]"
   ]
  },
  {
   "cell_type": "code",
   "execution_count": 5,
   "metadata": {
    "id": "DMqSZ-x4MPBO"
   },
   "outputs": [],
   "source": [
    "nouns = [\n",
    "    \"Coding\",\n",
    "    \"AI\",\n",
    "    \"Artificial Intelligence\",\n",
    "    \"ML\",\n",
    "    \"Data Science\",\n",
    "    \"BERT\",\n",
    "    \"Google\",\n",
    "    \"Microsoft\",\n",
    "    \"Windows\",\n",
    "    \"Amazon\",\n",
    "    \"Netflix\",\n",
    "    \"Schumachder\",\n",
    "    \"Senna\",\n",
    "    \"Hamilton\",\n",
    "    \"Rossi\",\n",
    "    \"Australia\",\n",
    "    \"Spain\",\n",
    "    \"Jamaica\",\n",
    "    \"Delhi\",\n",
    "    \"Table\",\n",
    "    \"Lamp\",\n",
    "    \"Building\",\n",
    "    \"Mountain\",\n",
    "    \"Car\",\n",
    "    \"Dog\",\n",
    "    \"Cat\",\n",
    "    \"Ferrari\",\n",
    "    \"Maserati\",\n",
    "    \"Sun\",\n",
    "    \"Moon\",\n",
    "    \"Milky Way\",\n",
    "    \"Rimac\",\n",
    "    \"Arduino\",\n",
    "    \"Intel\",\n",
    "    \"Webinar\",\n",
    "    \"Spain\",\n",
    "    \"waves\",\n",
    "    \"human\",\n",
    "    \"monkey\",\n",
    "    \"giraffe\",\n",
    "    \"turkey\",\n",
    "    \"station\",\n",
    "    \"phones\",\n",
    "    \"Android\",\n",
    "    \"fan\",\n",
    "    \"clock\",\n",
    "    \"popcorn\",\n",
    "    \"dosa\",\n",
    "    \"chips\",\n",
    "    \"rice\",\n",
    "    \"AIDS\",\n",
    "    \"NLP\",\n",
    "    \"money\",\n",
    "    \"cash\",\n",
    "    \"dollars\",\n",
    "    \"London\",\n",
    "    \"Trinidad\",\n",
    "    \"Perth\",\n",
    "    \"transformers\"\n",
    "]"
   ]
  },
  {
   "cell_type": "code",
   "execution_count": 6,
   "metadata": {
    "id": "A6GTgDxYMPBO"
   },
   "outputs": [],
   "source": [
    "salutation = [\n",
    "    \"Hey\",\n",
    "    \"Hi\",\n",
    "    \"Sup\",\n",
    "    \"Wassup\",\n",
    "    \"Hello\",\n",
    "    \"Hello There\",\n",
    "    \"How's it going\",\n",
    "    \"How are you doing\",\n",
    "    \"How are you\",\n",
    "    \"What's Up\",\n",
    "    \"Whats New\",\n",
    "    \"Whats going on\",\n",
    "    \"Hows life\",\n",
    "    \"Hows Things\",\n",
    "    \"How was your day\",\n",
    "    \"Good to see you\",\n",
    "    \"Nice to see you\",\n",
    "    \"Long time no see\",\n",
    "    \"Its been a while\",\n",
    "    \"Good Morning\",\n",
    "    \"Good Afternoon\",\n",
    "    \"Good Evening\",\n",
    "    \"Its nice to meet you\",\n",
    "    \"Pleased to meet you\",\n",
    "    \"How have you been\",\n",
    "    \"How do you do\",\n",
    "    \"YO\",\n",
    "    \"Alright Mate\",\n",
    "    \"Hiya\"\n",
    "]"
   ]
  },
  {
   "cell_type": "code",
   "execution_count": 7,
   "metadata": {
    "id": "mAgORhSvMPBO",
    "outputId": "d2bcfb8b-ddad-405c-e449-ead41f98439e"
   },
   "outputs": [
    {
     "data": {
      "text/html": [
       "<div>\n",
       "<style scoped>\n",
       "    .dataframe tbody tr th:only-of-type {\n",
       "        vertical-align: middle;\n",
       "    }\n",
       "\n",
       "    .dataframe tbody tr th {\n",
       "        vertical-align: top;\n",
       "    }\n",
       "\n",
       "    .dataframe thead th {\n",
       "        text-align: right;\n",
       "    }\n",
       "</style>\n",
       "<table border=\"1\" class=\"dataframe\">\n",
       "  <thead>\n",
       "    <tr style=\"text-align: right;\">\n",
       "      <th></th>\n",
       "      <th>text</th>\n",
       "      <th>intent</th>\n",
       "    </tr>\n",
       "  </thead>\n",
       "  <tbody>\n",
       "    <tr>\n",
       "      <th>261</th>\n",
       "      <td>Hey, What's Cat</td>\n",
       "      <td>Define</td>\n",
       "    </tr>\n",
       "    <tr>\n",
       "      <th>1870</th>\n",
       "      <td>Figure out station</td>\n",
       "      <td>Define</td>\n",
       "    </tr>\n",
       "    <tr>\n",
       "      <th>1283</th>\n",
       "      <td>I don't understand fan</td>\n",
       "      <td>Define</td>\n",
       "    </tr>\n",
       "    <tr>\n",
       "      <th>257</th>\n",
       "      <td>Hey, What's Building</td>\n",
       "      <td>Define</td>\n",
       "    </tr>\n",
       "    <tr>\n",
       "      <th>1567</th>\n",
       "      <td>Explain Intel</td>\n",
       "      <td>Define</td>\n",
       "    </tr>\n",
       "    <tr>\n",
       "      <th>1137</th>\n",
       "      <td>Let me know about Spain</td>\n",
       "      <td>Define</td>\n",
       "    </tr>\n",
       "    <tr>\n",
       "      <th>130</th>\n",
       "      <td>What information do you've on Senna</td>\n",
       "      <td>Define</td>\n",
       "    </tr>\n",
       "    <tr>\n",
       "      <th>1622</th>\n",
       "      <td>Illustrate Moon</td>\n",
       "      <td>Define</td>\n",
       "    </tr>\n",
       "    <tr>\n",
       "      <th>836</th>\n",
       "      <td>Help me with Netflix</td>\n",
       "      <td>Define</td>\n",
       "    </tr>\n",
       "    <tr>\n",
       "      <th>1746</th>\n",
       "      <td>Outline Spain</td>\n",
       "      <td>Define</td>\n",
       "    </tr>\n",
       "  </tbody>\n",
       "</table>\n",
       "</div>"
      ],
      "text/plain": [
       "                                     text  intent\n",
       "261                       Hey, What's Cat  Define\n",
       "1870                   Figure out station  Define\n",
       "1283               I don't understand fan  Define\n",
       "257                  Hey, What's Building  Define\n",
       "1567                        Explain Intel  Define\n",
       "1137              Let me know about Spain  Define\n",
       "130   What information do you've on Senna  Define\n",
       "1622                      Illustrate Moon  Define\n",
       "836                  Help me with Netflix  Define\n",
       "1746                        Outline Spain  Define"
      ]
     },
     "execution_count": 7,
     "metadata": {},
     "output_type": "execute_result"
    }
   ],
   "source": [
    "text = []\n",
    "\n",
    "for i in define_sent:\n",
    "    for j in nouns:\n",
    "        text.append(i + j)\n",
    "        \n",
    "df = pd.DataFrame(text, columns = ['text'])\n",
    "df['intent'] = \"Define\"\n",
    "df.sample(n = 10)"
   ]
  },
  {
   "cell_type": "code",
   "execution_count": 8,
   "metadata": {
    "id": "5RNKtsTSTPhh"
   },
   "outputs": [],
   "source": [
    "train = pd.read_csv(\"train.csv\")\n",
    "valid = pd.read_csv(\"valid.csv\")\n",
    "test = pd.read_csv(\"test.csv\")"
   ]
  },
  {
   "cell_type": "code",
   "execution_count": 9,
   "metadata": {
    "id": "Nw4hUCMgTdmE"
   },
   "outputs": [],
   "source": [
    "train = train.append(valid).reset_index(drop=True)"
   ]
  },
  {
   "cell_type": "code",
   "execution_count": 10,
   "metadata": {
    "colab": {
     "base_uri": "https://localhost:8080/",
     "height": 34
    },
    "id": "VsILJQbMgGlt",
    "outputId": "7fe4bf44-3faf-4528-e5d3-c00d83adbd54"
   },
   "outputs": [
    {
     "data": {
      "text/plain": [
       "(13784, 2)"
      ]
     },
     "execution_count": 10,
     "metadata": {},
     "output_type": "execute_result"
    }
   ],
   "source": [
    "train.shape"
   ]
  },
  {
   "cell_type": "code",
   "execution_count": 11,
   "metadata": {
    "id": "mOU544PCMPBP"
   },
   "outputs": [],
   "source": [
    "\"\"\"train = train[(train['intent'] == 'PlayMusic') | (train['intent'] == 'GetWeather')]\n",
    "test = test[(test['intent'] == 'PlayMusic') | (test['intent'] == 'GetWeather')]\"\"\"\n",
    "\n",
    "train = train[train['intent'] != \"AddToPlaylist\"]\n",
    "test = test[test['intent'] != \"AddToPlaylist\"]"
   ]
  },
  {
   "cell_type": "code",
   "execution_count": 12,
   "metadata": {
    "id": "i4cZ4oi_TTfC"
   },
   "outputs": [],
   "source": [
    "train = train.append(df).reset_index(drop=True)\n",
    "test = test.append(df.sample(n=100)).reset_index(drop=True)"
   ]
  },
  {
   "cell_type": "code",
   "execution_count": 13,
   "metadata": {
    "colab": {
     "base_uri": "https://localhost:8080/",
     "height": 596
    },
    "id": "Fes5nupOfR9B",
    "outputId": "a848e96a-9698-44a2-ff4c-996a2660cc3d"
   },
   "outputs": [
    {
     "name": "stderr",
     "output_type": "stream",
     "text": [
      "C:\\ProgramData\\Anaconda3\\lib\\site-packages\\seaborn\\_decorators.py:36: FutureWarning: Pass the following variable as a keyword arg: x. From version 0.12, the only valid positional argument will be `data`, and passing other arguments without an explicit keyword will result in an error or misinterpretation.\n",
      "  warnings.warn(\n"
     ]
    },
    {
     "data": {
      "image/png": "[encoded data removed]",
      "text/plain": [
       "<Figure size 864x576 with 1 Axes>"
      ]
     },
     "metadata": {
      "image/png": {
       "height": 569,
       "width": 739
      }
     },
     "output_type": "display_data"
    }
   ],
   "source": [
    "chart = sns.countplot(train.intent)\n",
    "plt.title(\"Number of texts per intent\")\n",
    "chart.set_xticklabels(chart.get_xticklabels(), rotation=30, horizontalalignment='right');"
   ]
  },
  {
   "cell_type": "markdown",
   "metadata": {
    "id": "Nc23faMAR--V"
   },
   "source": [
    "# Intent Recognition with BERT"
   ]
  },
  {
   "cell_type": "code",
   "execution_count": 14,
   "metadata": {
    "id": "LbvjbsEb9Ndv"
   },
   "outputs": [],
   "source": [
    "bert_model_name=\"uncased_L-12_H-768_A-12\"\n",
    "\n",
    "bert_ckpt_dir = os.path.join(\"model/\", bert_model_name)\n",
    "bert_ckpt_file = os.path.join(bert_ckpt_dir, \"bert_model.ckpt\")\n",
    "bert_config_file = os.path.join(bert_ckpt_dir, \"bert_config.json\")"
   ]
  },
  {
   "cell_type": "markdown",
   "metadata": {
    "id": "3os6qeC6SB-M"
   },
   "source": [
    "## Preprocessing"
   ]
  },
  {
   "cell_type": "code",
   "execution_count": 15,
   "metadata": {
    "id": "TApTW_wLxoA9"
   },
   "outputs": [],
   "source": [
    "class IntentDetectionData:\n",
    "    DATA_COLUMN = \"text\"\n",
    "    LABEL_COLUMN = \"intent\"\n",
    "\n",
    "    def __init__(self, train, test, tokenizer: FullTokenizer, classes, max_seq_len=192):\n",
    "        self.tokenizer = tokenizer\n",
    "        self.max_seq_len = 0\n",
    "        self.classes = classes\n",
    "\n",
    "        train, test = map(lambda df: df.reindex(df[IntentDetectionData.DATA_COLUMN].str.len().sort_values().index), [train, test])\n",
    "\n",
    "        ((self.train_x, self.train_y), (self.test_x, self.test_y)) = map(self._prepare, [train, test])\n",
    "\n",
    "        print(\"max seq_len\", self.max_seq_len)\n",
    "        self.max_seq_len = min(self.max_seq_len, max_seq_len)\n",
    "        self.train_x, self.test_x = map(self._pad, [self.train_x, self.test_x])\n",
    "\n",
    "    def _prepare(self, df):\n",
    "        x, y = [], []\n",
    "\n",
    "        for _, row in tqdm(df.iterrows()):\n",
    "            text, label = row[IntentDetectionData.DATA_COLUMN], row[IntentDetectionData.LABEL_COLUMN]\n",
    "            tokens = self.tokenizer.tokenize(text)\n",
    "            tokens = [\"[CLS]\"] + tokens + [\"[SEP]\"]\n",
    "            token_ids = self.tokenizer.convert_tokens_to_ids(tokens)\n",
    "            self.max_seq_len = max(self.max_seq_len, len(token_ids))\n",
    "            x .append(token_ids)\n",
    "            y.append(self.classes.index(label))\n",
    "\n",
    "        return np.array(x), np.array(y)\n",
    "\n",
    "    def _pad(self, ids):\n",
    "        x = []\n",
    "        for input_ids in ids:\n",
    "            input_ids = input_ids[:min(len(input_ids), self.max_seq_len - 2)]\n",
    "            input_ids = input_ids + [0] * (self.max_seq_len - len(input_ids))\n",
    "            x.append(np.array(input_ids))\n",
    "        return np.array(x)"
   ]
  },
  {
   "cell_type": "code",
   "execution_count": 16,
   "metadata": {
    "id": "qQWpVG464BuO"
   },
   "outputs": [],
   "source": [
    "tokenizer = FullTokenizer(vocab_file=os.path.join(bert_ckpt_dir, \"vocab.txt\"))"
   ]
  },
  {
   "cell_type": "code",
   "execution_count": 17,
   "metadata": {
    "colab": {
     "base_uri": "https://localhost:8080/",
     "height": 34
    },
    "id": "9gjqzvNF9JFF",
    "outputId": "047840e0-7563-4401-b6b9-c2b2bb1d585d"
   },
   "outputs": [
    {
     "data": {
      "text/plain": [
       "['what', 'do', 'you', 'know', 'about', 'michael', 'schumacher', '?']"
      ]
     },
     "execution_count": 17,
     "metadata": {},
     "output_type": "execute_result"
    }
   ],
   "source": [
    "tokenizer.tokenize(\"What do you know about Michael Schumacher?\")\n",
    "\n"
   ]
  },
  {
   "cell_type": "code",
   "execution_count": 18,
   "metadata": {
    "colab": {
     "base_uri": "https://localhost:8080/",
     "height": 34
    },
    "id": "CVz4kjcXHnnM",
    "outputId": "6e537e9f-9105-4aa4-db6e-cb378ddfa02c"
   },
   "outputs": [
    {
     "data": {
      "text/plain": [
       "[2054, 2079, 2017, 2113, 2055, 2745, 22253, 1029]"
      ]
     },
     "execution_count": 18,
     "metadata": {},
     "output_type": "execute_result"
    }
   ],
   "source": [
    "tokens = tokenizer.tokenize(\"What do you know about Michael Schumacher?\")\n",
    "tokenizer.convert_tokens_to_ids(tokens)"
   ]
  },
  {
   "cell_type": "code",
   "execution_count": 19,
   "metadata": {
    "id": "xnGGC53P9nC8"
   },
   "outputs": [],
   "source": [
    "def create_model(max_seq_len, bert_ckpt_file):\n",
    "\n",
    "    with tf.io.gfile.GFile(bert_config_file, \"r\") as reader:\n",
    "        bc = StockBertConfig.from_json_string(reader.read())\n",
    "        bert_params = map_stock_config_to_params(bc)\n",
    "        bert_params.adapter_size = None\n",
    "        bert = BertModelLayer.from_params(bert_params, name=\"bert\")\n",
    "        \n",
    "    input_ids = keras.layers.Input(shape=(max_seq_len, ), dtype='int32', name=\"input_ids\")\n",
    "    bert_output = bert(input_ids)\n",
    "\n",
    "    print(\"bert shape\", bert_output.shape)\n",
    "\n",
    "    cls_out = keras.layers.Lambda(lambda seq: seq[:, 0, :])(bert_output)\n",
    "    cls_out = keras.layers.Dropout(0.5)(cls_out)\n",
    "    logits = keras.layers.Dense(units=768, activation=\"tanh\")(cls_out)\n",
    "    logits = keras.layers.Dropout(0.5)(logits)\n",
    "    logits = keras.layers.Dense(units=len(classes), activation=\"softmax\")(logits)\n",
    "\n",
    "    model = keras.Model(inputs=input_ids, outputs=logits)\n",
    "    model.build(input_shape=(None, max_seq_len))\n",
    "\n",
    "    load_stock_weights(bert, bert_ckpt_file)\n",
    "        \n",
    "    return model"
   ]
  },
  {
   "cell_type": "markdown",
   "metadata": {
    "id": "67GbMH3WRvZg"
   },
   "source": [
    "## Training"
   ]
  },
  {
   "cell_type": "code",
   "execution_count": 20,
   "metadata": {
    "colab": {
     "base_uri": "https://localhost:8080/",
     "height": 68
    },
    "id": "kXyaQY4E9S10",
    "outputId": "c68c6b45-a023-474f-c40f-5bd81504fd9c"
   },
   "outputs": [
    {
     "name": "stderr",
     "output_type": "stream",
     "text": [
      "13872it [00:01, 7623.42it/s]\n",
      "<ipython-input-15-04d83c621cd8>:30: VisibleDeprecationWarning: Creating an ndarray from ragged nested sequences (which is a list-or-tuple of lists-or-tuples-or ndarrays with different lengths or shapes) is deprecated. If you meant to do this, you must specify 'dtype=object' when creating the ndarray\n",
      "  return np.array(x), np.array(y)\n",
      "676it [00:00, 7763.00it/s]"
     ]
    },
    {
     "name": "stdout",
     "output_type": "stream",
     "text": [
      "max seq_len 38\n"
     ]
    },
    {
     "name": "stderr",
     "output_type": "stream",
     "text": [
      "\n"
     ]
    }
   ],
   "source": [
    "classes = train.intent.unique().tolist()\n",
    "\n",
    "data = IntentDetectionData(train, test, tokenizer, classes, max_seq_len=128)"
   ]
  },
  {
   "cell_type": "code",
   "execution_count": 21,
   "metadata": {},
   "outputs": [
    {
     "data": {
      "text/plain": [
       "['PlayMusic',\n",
       " 'RateBook',\n",
       " 'SearchScreeningEvent',\n",
       " 'BookRestaurant',\n",
       " 'GetWeather',\n",
       " 'SearchCreativeWork',\n",
       " 'Define']"
      ]
     },
     "execution_count": 21,
     "metadata": {},
     "output_type": "execute_result"
    }
   ],
   "source": [
    "classes"
   ]
  },
  {
   "cell_type": "code",
   "execution_count": 52,
   "metadata": {
    "colab": {
     "base_uri": "https://localhost:8080/",
     "height": 34
    },
    "id": "0kZxXxEcdRnI",
    "outputId": "f9f74ce4-0c00-47f0-97c6-d2e983e79d55"
   },
   "outputs": [
    {
     "data": {
      "text/plain": [
       "(13872, 38)"
      ]
     },
     "execution_count": 52,
     "metadata": {},
     "output_type": "execute_result"
    }
   ],
   "source": [
    "data.train_x.shape"
   ]
  },
  {
   "cell_type": "code",
   "execution_count": 53,
   "metadata": {
    "colab": {
     "base_uri": "https://localhost:8080/",
     "height": 85
    },
    "id": "pilJksXUcsbq",
    "outputId": "3fa7c850-b77d-4736-a27d-418f7b9ad900"
   },
   "outputs": [
    {
     "data": {
      "text/plain": [
       "array([ 101, 2377, 3769,  102,    0,    0,    0,    0,    0,    0,    0,\n",
       "          0,    0,    0,    0,    0,    0,    0,    0,    0,    0,    0,\n",
       "          0,    0,    0,    0,    0,    0,    0,    0,    0,    0,    0,\n",
       "          0,    0,    0,    0,    0])"
      ]
     },
     "execution_count": 53,
     "metadata": {},
     "output_type": "execute_result"
    }
   ],
   "source": [
    "data.train_x[0]"
   ]
  },
  {
   "cell_type": "code",
   "execution_count": 54,
   "metadata": {
    "colab": {
     "base_uri": "https://localhost:8080/",
     "height": 34
    },
    "id": "7LN7IoKJc1E4",
    "outputId": "12b7ea89-fd03-40ba-e4fb-beb5930c157e"
   },
   "outputs": [
    {
     "data": {
      "text/plain": [
       "0"
      ]
     },
     "execution_count": 54,
     "metadata": {},
     "output_type": "execute_result"
    }
   ],
   "source": [
    "data.train_y[0]"
   ]
  },
  {
   "cell_type": "code",
   "execution_count": 55,
   "metadata": {
    "colab": {
     "base_uri": "https://localhost:8080/",
     "height": 34
    },
    "id": "QeEKod_Se4X4",
    "outputId": "52e17ad6-b99c-4226-edf7-4f470ae7110d"
   },
   "outputs": [
    {
     "data": {
      "text/plain": [
       "38"
      ]
     },
     "execution_count": 55,
     "metadata": {},
     "output_type": "execute_result"
    }
   ],
   "source": [
    "data.max_seq_len"
   ]
  },
  {
   "cell_type": "code",
   "execution_count": 56,
   "metadata": {
    "colab": {
     "base_uri": "https://localhost:8080/",
     "height": 258
    },
    "id": "TizDFiPC9n4b",
    "outputId": "12ad0dcd-5fd2-401a-8990-2ee4d9e3d747"
   },
   "outputs": [
    {
     "name": "stdout",
     "output_type": "stream",
     "text": [
      "bert shape (None, 38, 768)\n",
      "Done loading 196 BERT weights from: model/uncased_L-12_H-768_A-12\\bert_model.ckpt into <bert.model.BertModelLayer object at 0x000001F9178C4F40> (prefix:bert). Count of weights not found in the checkpoint was: [0]. Count of weights with mismatched shape: [0]\n",
      "Unused weights from checkpoint: \n",
      "\tbert/embeddings/token_type_embeddings\n",
      "\tbert/pooler/dense/bias\n",
      "\tbert/pooler/dense/kernel\n",
      "\tcls/predictions/output_bias\n",
      "\tcls/predictions/transform/LayerNorm/beta\n",
      "\tcls/predictions/transform/LayerNorm/gamma\n",
      "\tcls/predictions/transform/dense/bias\n",
      "\tcls/predictions/transform/dense/kernel\n",
      "\tcls/seq_relationship/output_bias\n",
      "\tcls/seq_relationship/output_weights\n"
     ]
    }
   ],
   "source": [
    "model = create_model(data.max_seq_len, bert_ckpt_file)"
   ]
  },
  {
   "cell_type": "code",
   "execution_count": 57,
   "metadata": {
    "colab": {
     "base_uri": "https://localhost:8080/",
     "height": 391
    },
    "id": "XjUkMjiGbC7f",
    "outputId": "cd8b6fd5-0cca-4e27-b644-4e80113c4813"
   },
   "outputs": [
    {
     "name": "stdout",
     "output_type": "stream",
     "text": [
      "Model: \"model_1\"\n",
      "_________________________________________________________________\n",
      "Layer (type)                 Output Shape              Param #   \n",
      "=================================================================\n",
      "input_ids (InputLayer)       [(None, 38)]              0         \n",
      "_________________________________________________________________\n",
      "bert (BertModelLayer)        (None, 38, 768)           108890112 \n",
      "_________________________________________________________________\n",
      "lambda_1 (Lambda)            (None, 768)               0         \n",
      "_________________________________________________________________\n",
      "dropout_2 (Dropout)          (None, 768)               0         \n",
      "_________________________________________________________________\n",
      "dense_2 (Dense)              (None, 768)               590592    \n",
      "_________________________________________________________________\n",
      "dropout_3 (Dropout)          (None, 768)               0         \n",
      "_________________________________________________________________\n",
      "dense_3 (Dense)              (None, 7)                 5383      \n",
      "=================================================================\n",
      "Total params: 109,486,087\n",
      "Trainable params: 109,486,087\n",
      "Non-trainable params: 0\n",
      "_________________________________________________________________\n"
     ]
    }
   ],
   "source": [
    "model.summary()"
   ]
  },
  {
   "cell_type": "code",
   "execution_count": 58,
   "metadata": {
    "id": "gYEHNOvbU9o8"
   },
   "outputs": [],
   "source": [
    "model.compile(\n",
    "  optimizer=keras.optimizers.Adam(1e-5),\n",
    "  loss=keras.losses.SparseCategoricalCrossentropy(from_logits=True),\n",
    "  metrics=[keras.metrics.SparseCategoricalAccuracy(name=\"acc\")]\n",
    ")"
   ]
  },
  {
   "cell_type": "code",
   "execution_count": 59,
   "metadata": {},
   "outputs": [
    {
     "name": "stdout",
     "output_type": "stream",
     "text": [
      "Epoch 1/2\n",
      "196/196 [==============================] - 76s 334ms/step - loss: 1.3724 - acc: 0.4829 - val_loss: 0.0332 - val_acc: 0.9928\n",
      "Epoch 2/2\n",
      "196/196 [==============================] - 64s 325ms/step - loss: 0.0884 - acc: 0.9748 - val_loss: 0.0273 - val_acc: 0.9950\n"
     ]
    }
   ],
   "source": [
    "history = model.fit(\n",
    "  x=data.train_x, \n",
    "  y=data.train_y,\n",
    "  validation_split=0.1,\n",
    "  batch_size=64,\n",
    "  shuffle=True,\n",
    "  epochs=2,\n",
    ")"
   ]
  },
  {
   "cell_type": "code",
   "execution_count": 64,
   "metadata": {},
   "outputs": [],
   "source": [
    "model_json = model.to_json()\n",
    "with open(\"bert_architecture.json\", \"w\") as json_file:\n",
    "    json_file.write(model_json)"
   ]
  },
  {
   "cell_type": "code",
   "execution_count": 63,
   "metadata": {
    "id": "F_EHdjR8MPBT"
   },
   "outputs": [],
   "source": [
    "model.save_weights('bert_weights.h5')\n",
    "model.load_weights('bert_weights.h5')"
   ]
  },
  {
   "cell_type": "markdown",
   "metadata": {
    "id": "6s31ZIADSGNp"
   },
   "source": [
    "## Evaluation"
   ]
  },
  {
   "cell_type": "code",
   "execution_count": null,
   "metadata": {
    "colab": {
     "base_uri": "https://localhost:8080/",
     "height": 85
    },
    "id": "RGAECSj4AiD1",
    "outputId": "6cb60bf3-d069-47ff-8f68-8c689f370ebb"
   },
   "outputs": [],
   "source": [
    "_, train_acc = model.evaluate(data.train_x, data.train_y)\n",
    "_, test_acc = model.evaluate(data.test_x, data.test_y)\n",
    "\n",
    "#print(\"train acc\", train_acc)\n",
    "print(\"test acc\", test_acc)"
   ]
  },
  {
   "cell_type": "code",
   "execution_count": null,
   "metadata": {
    "id": "Leg5atNmPzGb"
   },
   "outputs": [],
   "source": [
    "y_pred = model.predict(data.test_x).argmax(axis=-1)"
   ]
  },
  {
   "cell_type": "code",
   "execution_count": null,
   "metadata": {
    "colab": {
     "base_uri": "https://localhost:8080/",
     "height": 255
    },
    "id": "SZYriKx6UUOb",
    "outputId": "f3a1763e-c496-4a54-841b-b2f48adb533e"
   },
   "outputs": [],
   "source": [
    "print(classification_report(data.test_y, y_pred, target_names=classes))"
   ]
  },
  {
   "cell_type": "code",
   "execution_count": null,
   "metadata": {
    "id": "lS-5TbGDP4rr"
   },
   "outputs": [],
   "source": [
    "cm = confusion_matrix(data.test_y, y_pred)\n",
    "df_cm = pd.DataFrame(cm, index=classes, columns=classes)"
   ]
  },
  {
   "cell_type": "code",
   "execution_count": null,
   "metadata": {
    "colab": {
     "base_uri": "https://localhost:8080/",
     "height": 579
    },
    "id": "DgkPl9gLS4DL",
    "outputId": "a4875467-6073-4672-eaff-3c11c3f86f2e"
   },
   "outputs": [],
   "source": [
    "hmap = sns.heatmap(df_cm, annot=True, fmt=\"d\")\n",
    "hmap.yaxis.set_ticklabels(hmap.yaxis.get_ticklabels(), rotation=0, ha='right')\n",
    "hmap.xaxis.set_ticklabels(hmap.xaxis.get_ticklabels(), rotation=30, ha='right')\n",
    "plt.ylabel('True label')\n",
    "plt.xlabel('Predicted label');"
   ]
  },
  {
   "cell_type": "markdown",
   "metadata": {
    "id": "zKUc-MD9MPBU"
   },
   "source": [
    "# API Integration \n",
    "# Named Entity Recognition\n",
    "# POS tagging"
   ]
  },
  {
   "cell_type": "code",
   "execution_count": null,
   "metadata": {
    "id": "JW-Kh6MPMPBU"
   },
   "outputs": [],
   "source": [
    "import spacy\n",
    "import requests\n",
    "import webbrowser\n",
    "from time import sleep\n",
    "from youtube_search import YoutubeSearch\n",
    "from random import shuffle\n",
    "import wikipedia\n",
    "\n",
    "import en_core_web_sm\n",
    "nlp = en_core_web_sm.load()"
   ]
  },
  {
   "cell_type": "code",
   "execution_count": null,
   "metadata": {
    "id": "C9GdI1UdMPBU"
   },
   "outputs": [],
   "source": [
    "from googlesearch import search"
   ]
  },
  {
   "cell_type": "code",
   "execution_count": null,
   "metadata": {
    "id": "UgJfL_eiMPBU"
   },
   "outputs": [],
   "source": [
    "def sentences_to_token_id(sentences):\n",
    "    pred_tokens = map(tokenizer.tokenize, sentences)\n",
    "    pred_tokens = map(lambda tok: [\"[CLS]\"] + tok + [\"[SEP]\"], pred_tokens)\n",
    "    pred_token_ids = list(map(tokenizer.convert_tokens_to_ids, pred_tokens))\n",
    "\n",
    "    pred_token_ids = map(lambda tids: tids +[0]*(data.max_seq_len-len(tids)),pred_token_ids)\n",
    "    pred_token_ids = np.array(list(pred_token_ids))\n",
    "    \n",
    "    return pred_token_ids\n",
    "    "
   ]
  },
  {
   "cell_type": "code",
   "execution_count": null,
   "metadata": {
    "id": "6Feyo0ULAmEW"
   },
   "outputs": [],
   "source": [
    "def albert(sentences):\n",
    "    \n",
    "    \"\"\"weather_queries = [\"I wonder if its raining in Mumbai!\",\n",
    "                  \"What's the Weather like London?\",\n",
    "                   \"Get me Delhi weather now!\",\n",
    "                  \"Is it hot in Alandi right now?\"]\n",
    "\n",
    "    music_queries = [\"Play Beliver\",\n",
    "                     \"I want to hear Rap_God\",\n",
    "                     \"Let's listen to Faded\",\n",
    "                     \"I'd like to hear Demons\"]\n",
    "\n",
    "    define_queries = [\"Tell me about Vettel\",\n",
    "                      \"What is AMD\",\n",
    "                      \"I want to know about BERT_model\",\n",
    "                      \"What the fcuk is Artificial_Intelligence\"]\n",
    "\n",
    "    sentences = weather_queries + music_queries + define_queries\n",
    "    #shuffle(sentences)\"\"\"\n",
    "\n",
    "    sentences_id = sentences_to_token_id(sentences)\n",
    "\n",
    "    predictions = model.predict(sentences_id).argmax(axis=-1)\n",
    "\n",
    "    for text, label in zip(sentences, predictions):\n",
    "        wikitxt = nlp(text)\n",
    "\n",
    "        #print(\"Query : \", text, \"\\nPrdeicted Intent : \", classes[label])\n",
    "        if classes[label] == 'GetWeather':\n",
    "            wikitxt = wikitxt.ents\n",
    "            wikitxt = [i for i in wikitxt if i.label_ == 'GPE']\n",
    "            api_address='http://api.openweathermap.org/data/2.5/weather?appid=640dcd9a166b017ee19a37d108c20553&q='\n",
    "            city = str(wikitxt[0])\n",
    "            url = api_address + city\n",
    "            json_data = requests.get(url).json()\n",
    "            print(\"\\nCurrently we've {} in {}.\".format(json_data['weather'][0]['description'], city))\n",
    "            print(\"Wind is flowing @ {}kmph.\".format(json_data['wind']['speed']))\n",
    "            print(\"Temperature : {} Celcius with {}% humidity.\".format(str(json_data['main']['temp']-273)[:4], json_data['main']['humidity']))\n",
    "            print()\n",
    "\n",
    "        elif classes[label] == 'PlayMusic':\n",
    "            \"\"\"song = [str(word) for word in wikitxt if word.tag_[:2] == 'NN']\n",
    "            print(\"\\nSure thing, Playing \", song[0], \" on Youtube.\")\n",
    "            result = YoutubeSearch(song[0] + \" song\", max_results=1).to_dict()\n",
    "            webbrowser.open('www.youtube.com' + result[0]['url_suffix'])\"\"\"\n",
    "            print(\"Predicted Intent: Play Music\")\n",
    "            song = [str(word) for word in wikitxt if word.tag_[:2] == 'NN']\n",
    "            result = YoutubeSearch(song[0] + \" song\", max_results=1).to_dict()\n",
    "            print(\"Go to: \" + str('www.youtube.com' + result[0]['url_suffix']))\n",
    "            webbrowser.open('www.youtube.com' + result[0]['url_suffix'])\n",
    "\n",
    "        elif classes[label] == 'RateBook':\n",
    "            print(\"Predicted Intent: Rate Book\")\n",
    "            print(\"I just found a brilliant community page to rate books!\")\n",
    "            webbrowser.open(\"Visit: https://www.goodreads.com/\")\n",
    "\n",
    "        elif classes[label] == \"SearchScreeningEvent\":\n",
    "            print(\"Predicted Intent: Search Screening Event\")\n",
    "            print(\"I'm sorry to remind most theaters are close, but try your luck\")\n",
    "            webbrowser.open(\"https://in.bookmyshow.com/\")\n",
    "\n",
    "        elif classes[label] == 'BookRestaurant':\n",
    "            print(\"Predicted Intent: Book Restaurant\")\n",
    "            print(\"\\nSure thing, Enjoy yor Supper !!\")\n",
    "            webbrowser.open(\"https://www.zomato.com\")\n",
    "\n",
    "        elif classes[label] == 'SearchCreativeWork':\n",
    "            print(\"Predicted Intent: Search Creative Work\")\n",
    "            print(\"\\nWell, Beauty lies in the eyes of the beholder..\")\n",
    "            print(\"\\nThe Drum has some Brilliant Creative Works, I'd suggest you should have a look.\")\n",
    "            webbrowser.open(\"https://www.thedrum.com/creative-works\")\n",
    "\n",
    "        elif classes[label] == 'AddToPlaylist':\n",
    "            print(\"Predicted Intent: Add To Playlist\")\n",
    "            print(\"Sorry, Google dropped support for Play Music API, we'll patch this later\")\n",
    "\n",
    "        elif classes[label] == 'Define':\n",
    "            query = [str(word) for word in wikitxt if word.tag_ == 'NNP']\n",
    "            try:\n",
    "                summary = wikipedia.summary(query[-1], sentences = 3)\n",
    "                print(\"\\nSummary : \" + summary + \"\\n\")\n",
    "            except:\n",
    "                print(\"\\nI guess there isn't a wiki page for that term...\\n\")\n",
    "                query = [str(word) for word in wikitxt if word.tag_[:2] == 'NN']\n",
    "                x = [i for i in search(str(query[-1]), tld=\"com\", num = 3, stop=3, pause=0)]\n",
    "                for j in x:\n",
    "                    print(j)\n",
    "\n",
    "                \"\"\"query = [str(word) for word in wikitxt if word.tag_[:2] == 'NN']\n",
    "                try:\n",
    "                    summary = wikipedia.summary(query[-1], sentences = 3)\n",
    "                except wikipedia.DisambiguationError as e:\n",
    "                    summary = wikipedia.summary(e.options[0], sentences = 3)\n",
    "            except wikipedia.DisambiguationError as e:\n",
    "                summary = wikipedia.summary(e.options[0], sentences = 3)\"\"\""
   ]
  },
  {
   "cell_type": "code",
   "execution_count": null,
   "metadata": {
    "id": "liP1C9_MMPBV",
    "outputId": "da43ce01-d306-4a47-b392-b485b50d8aac"
   },
   "outputs": [],
   "source": [
    "albert([\"Let's listen to Delicate\"])"
   ]
  },
  {
   "cell_type": "code",
   "execution_count": null,
   "metadata": {
    "id": "5KYBYWaFMPBV",
    "outputId": "0894f756-c1ca-4e91-cd0f-5620ac3e81a5"
   },
   "outputs": [],
   "source": [
    "albert([\"Play Beliver\"])"
   ]
  },
  {
   "cell_type": "code",
   "execution_count": null,
   "metadata": {
    "id": "bLNO82GKMPBV",
    "outputId": "d10e6362-be08-443c-b303-279e2ec339d5"
   },
   "outputs": [],
   "source": [
    "albert([\"What's the Weather like London?\"])"
   ]
  },
  {
   "cell_type": "code",
   "execution_count": null,
   "metadata": {
    "id": "Ht2AKc76MPBV",
    "outputId": "556466ab-1353-4959-9f1e-c96749377ce4"
   },
   "outputs": [],
   "source": [
    "albert([\"Is it hot in Berkeley right now?\"])"
   ]
  },
  {
   "cell_type": "code",
   "execution_count": null,
   "metadata": {
    "id": "eNFsLwUIMPBV",
    "outputId": "a3076ddb-b4c0-4937-b39c-9d1911f412d8"
   },
   "outputs": [],
   "source": [
    "albert([\"Get me Mumbai's weather now!\"])"
   ]
  },
  {
   "cell_type": "code",
   "execution_count": null,
   "metadata": {
    "id": "2V2wuxQlMPBV",
    "outputId": "6a9157bf-de89-496f-c843-5d93ba0004c1"
   },
   "outputs": [],
   "source": [
    "albert([\"What is Intel\"])"
   ]
  },
  {
   "cell_type": "code",
   "execution_count": null,
   "metadata": {
    "id": "TF91bQNOMPBV",
    "outputId": "e421d959-cf90-42cb-c0ce-0a2dc607892e"
   },
   "outputs": [],
   "source": [
    "albert([\"Tell me about BERT_Model\"])"
   ]
  },
  {
   "cell_type": "code",
   "execution_count": null,
   "metadata": {
    "id": "bFS-YEPqMPBW",
    "outputId": "acff1ea3-bfbe-421f-b1dd-58ac46d1496e"
   },
   "outputs": [],
   "source": [
    "albert([\"What is Ferrari\"])"
   ]
  },
  {
   "cell_type": "code",
   "execution_count": null,
   "metadata": {
    "id": "pCYIYiUnMPBW",
    "outputId": "742e6434-19be-4c2a-f0b4-080ccb6b91fa"
   },
   "outputs": [],
   "source": [
    "albert([\"Need information on IPL\"])"
   ]
  },
  {
   "cell_type": "code",
   "execution_count": null,
   "metadata": {
    "id": "Ev7KrlXfMPBW",
    "outputId": "8cb01798-59fb-4b82-aa59-0cafa88c2045"
   },
   "outputs": [],
   "source": [
    "albert([\"Help me with a fine dine restaurant\"])"
   ]
  },
  {
   "cell_type": "code",
   "execution_count": null,
   "metadata": {
    "id": "lyyoERfjMPBW",
    "outputId": "596df1e9-9a53-46d6-a45f-5f71ff728ee5"
   },
   "outputs": [],
   "source": [
    "albert([\"Wonder how Mona Lisa looks like\"])"
   ]
  },
  {
   "cell_type": "markdown",
   "metadata": {},
   "source": [
    "# Deployment"
   ]
  },
  {
   "cell_type": "code",
   "execution_count": 66,
   "metadata": {},
   "outputs": [
    {
     "name": "stdout",
     "output_type": "stream",
     "text": [
      "loaded model from JSON_LOCATION and WEIGHTS_LOCATION\n"
     ]
    }
   ],
   "source": [
    "JSON_LOCATION = 'bert_architecture.json'\n",
    "WEIGHTS_LOCATION = 'bert_weights.h5'\n",
    "\n",
    "\n",
    "from keras.models import model_from_json\n",
    "json_file = open(JSON_LOCATION, 'r')\n",
    "loaded_model_json = json_file.read()\n",
    "json_file.close()\n",
    "    \n",
    "model = model_from_json(loaded_model_json, custom_objects={\"BertModelLayer\": bert.BertModelLayer})\n",
    "   # load weights into new model\n",
    "model.load_weights(WEIGHTS_LOCATION)\n",
    "print(\"loaded model from JSON_LOCATION and WEIGHTS_LOCATION\")"
   ]
  },
  {
   "cell_type": "code",
   "execution_count": 79,
   "metadata": {},
   "outputs": [
    {
     "ename": "AssertionError",
     "evalue": "Export directory already exists, and isn't empty. Please choose a different export directory, or delete all the contents of the specified directory: export/Servo/1",
     "output_type": "error",
     "traceback": [
      "\u001b[1;31m---------------------------------------------------------------------------\u001b[0m",
      "\u001b[1;31mAssertionError\u001b[0m                            Traceback (most recent call last)",
      "\u001b[1;32m<ipython-input-79-37ed62f6fd8c>\u001b[0m in \u001b[0;36m<module>\u001b[1;34m\u001b[0m\n\u001b[0;32m     31\u001b[0m         \u001b[0marchive\u001b[0m\u001b[1;33m.\u001b[0m\u001b[0madd\u001b[0m\u001b[1;33m(\u001b[0m\u001b[1;34m'export'\u001b[0m\u001b[1;33m,\u001b[0m \u001b[0mrecursive\u001b[0m\u001b[1;33m=\u001b[0m\u001b[1;32mTrue\u001b[0m\u001b[1;33m)\u001b[0m\u001b[1;33m\u001b[0m\u001b[1;33m\u001b[0m\u001b[0m\n\u001b[0;32m     32\u001b[0m \u001b[1;33m\u001b[0m\u001b[0m\n\u001b[1;32m---> 33\u001b[1;33m \u001b[0mconvert_h5_to_aws\u001b[0m\u001b[1;33m(\u001b[0m\u001b[0mmodel\u001b[0m\u001b[1;33m)\u001b[0m\u001b[1;33m\u001b[0m\u001b[1;33m\u001b[0m\u001b[0m\n\u001b[0m",
      "\u001b[1;32m<ipython-input-79-37ed62f6fd8c>\u001b[0m in \u001b[0;36mconvert_h5_to_aws\u001b[1;34m(loaded_model)\u001b[0m\n\u001b[0;32m     13\u001b[0m \u001b[1;33m\u001b[0m\u001b[0m\n\u001b[0;32m     14\u001b[0m     \u001b[1;31m# Build the Protocol Buffer SavedModel at 'export_dir'\u001b[0m\u001b[1;33m\u001b[0m\u001b[1;33m\u001b[0m\u001b[1;33m\u001b[0m\u001b[0m\n\u001b[1;32m---> 15\u001b[1;33m     \u001b[0mbuilder\u001b[0m \u001b[1;33m=\u001b[0m \u001b[0mbuilder\u001b[0m\u001b[1;33m.\u001b[0m\u001b[0mSavedModelBuilder\u001b[0m\u001b[1;33m(\u001b[0m\u001b[0mexport_dir\u001b[0m\u001b[1;33m)\u001b[0m\u001b[1;33m\u001b[0m\u001b[1;33m\u001b[0m\u001b[0m\n\u001b[0m\u001b[0;32m     16\u001b[0m \u001b[1;33m\u001b[0m\u001b[0m\n\u001b[0;32m     17\u001b[0m     \u001b[1;31m# Create prediction signature to be used by TensorFlow Serving Predict API\u001b[0m\u001b[1;33m\u001b[0m\u001b[1;33m\u001b[0m\u001b[1;33m\u001b[0m\u001b[0m\n",
      "\u001b[1;32mC:\\ProgramData\\Anaconda3\\lib\\site-packages\\tensorflow\\python\\saved_model\\builder_impl.py\u001b[0m in \u001b[0;36m__init__\u001b[1;34m(self, export_dir)\u001b[0m\n\u001b[0;32m    435\u001b[0m \u001b[1;33m\u001b[0m\u001b[0m\n\u001b[0;32m    436\u001b[0m   \u001b[1;32mdef\u001b[0m \u001b[0m__init__\u001b[0m\u001b[1;33m(\u001b[0m\u001b[0mself\u001b[0m\u001b[1;33m,\u001b[0m \u001b[0mexport_dir\u001b[0m\u001b[1;33m)\u001b[0m\u001b[1;33m:\u001b[0m\u001b[1;33m\u001b[0m\u001b[1;33m\u001b[0m\u001b[0m\n\u001b[1;32m--> 437\u001b[1;33m     \u001b[0msuper\u001b[0m\u001b[1;33m(\u001b[0m\u001b[0mSavedModelBuilder\u001b[0m\u001b[1;33m,\u001b[0m \u001b[0mself\u001b[0m\u001b[1;33m)\u001b[0m\u001b[1;33m.\u001b[0m\u001b[0m__init__\u001b[0m\u001b[1;33m(\u001b[0m\u001b[0mexport_dir\u001b[0m\u001b[1;33m=\u001b[0m\u001b[0mexport_dir\u001b[0m\u001b[1;33m)\u001b[0m\u001b[1;33m\u001b[0m\u001b[1;33m\u001b[0m\u001b[0m\n\u001b[0m\u001b[0;32m    438\u001b[0m \u001b[1;33m\u001b[0m\u001b[0m\n\u001b[0;32m    439\u001b[0m   \u001b[1;32mdef\u001b[0m \u001b[0m_add_collections\u001b[0m\u001b[1;33m(\u001b[0m\u001b[0mself\u001b[0m\u001b[1;33m,\u001b[0m \u001b[0massets_collection\u001b[0m\u001b[1;33m,\u001b[0m \u001b[0mmain_op\u001b[0m\u001b[1;33m,\u001b[0m \u001b[0mtrain_op\u001b[0m\u001b[1;33m)\u001b[0m\u001b[1;33m:\u001b[0m\u001b[1;33m\u001b[0m\u001b[1;33m\u001b[0m\u001b[0m\n",
      "\u001b[1;32mC:\\ProgramData\\Anaconda3\\lib\\site-packages\\tensorflow\\python\\saved_model\\builder_impl.py\u001b[0m in \u001b[0;36m__init__\u001b[1;34m(self, export_dir)\u001b[0m\n\u001b[0;32m     98\u001b[0m     \u001b[1;32mif\u001b[0m \u001b[0mfile_io\u001b[0m\u001b[1;33m.\u001b[0m\u001b[0mfile_exists\u001b[0m\u001b[1;33m(\u001b[0m\u001b[0mexport_dir\u001b[0m\u001b[1;33m)\u001b[0m\u001b[1;33m:\u001b[0m\u001b[1;33m\u001b[0m\u001b[1;33m\u001b[0m\u001b[0m\n\u001b[0;32m     99\u001b[0m       \u001b[1;32mif\u001b[0m \u001b[0mfile_io\u001b[0m\u001b[1;33m.\u001b[0m\u001b[0mlist_directory\u001b[0m\u001b[1;33m(\u001b[0m\u001b[0mexport_dir\u001b[0m\u001b[1;33m)\u001b[0m\u001b[1;33m:\u001b[0m\u001b[1;33m\u001b[0m\u001b[1;33m\u001b[0m\u001b[0m\n\u001b[1;32m--> 100\u001b[1;33m         raise AssertionError(\n\u001b[0m\u001b[0;32m    101\u001b[0m             \u001b[1;34m\"Export directory already exists, and isn't empty. Please choose \"\u001b[0m\u001b[1;33m\u001b[0m\u001b[1;33m\u001b[0m\u001b[0m\n\u001b[0;32m    102\u001b[0m             \u001b[1;34m\"a different export directory, or delete all the contents of the \"\u001b[0m\u001b[1;33m\u001b[0m\u001b[1;33m\u001b[0m\u001b[0m\n",
      "\u001b[1;31mAssertionError\u001b[0m: Export directory already exists, and isn't empty. Please choose a different export directory, or delete all the contents of the specified directory: export/Servo/1"
     ]
    }
   ],
   "source": [
    "def convert_h5_to_aws(loaded_model):\n",
    "    \"\"\"\n",
    "    given a pre-trained keras model, this function converts it to a TF protobuf format\n",
    "    and saves it in the file structure which aws expects\n",
    "    \"\"\"  \n",
    "    from tensorflow.python.saved_model import builder\n",
    "    from tensorflow.python.saved_model.signature_def_utils import predict_signature_def\n",
    "    from tensorflow.python.saved_model import tag_constants\n",
    "    \n",
    "    # This is the file structure which AWS expects. Cannot be changed. \n",
    "    model_version = '1'\n",
    "    export_dir = 'export/Servo/' + model_version\n",
    "    \n",
    "    # Build the Protocol Buffer SavedModel at 'export_dir'\n",
    "    builder = builder.SavedModelBuilder(export_dir)\n",
    "    \n",
    "    # Create prediction signature to be used by TensorFlow Serving Predict API\n",
    "    signature = predict_signature_def(\n",
    "        inputs={\"inputs\": loaded_model.input}, outputs={\"score\": loaded_model.output})\n",
    "    \n",
    "    import tensorflow.python.keras.backend as K\n",
    "    with K.get_session() as sess:\n",
    "        # Save the meta graph and variables\n",
    "        builder.add_meta_graph_and_variables(\n",
    "            sess=sess, tags=[tag_constants.SERVING], signature_def_map={\"serving_default\": signature})\n",
    "        builder.save()\n",
    "    \n",
    "    #create a tarball/tar file and zip it\n",
    "    import tarfile\n",
    "    with tarfile.open('model.tar.gz', mode='w:gz') as archive:\n",
    "        archive.add('export', recursive=True)\n",
    "        \n",
    "convert_h5_to_aws(model)"
   ]
  },
  {
   "cell_type": "code",
   "execution_count": null,
   "metadata": {},
   "outputs": [],
   "source": []
  }
 ],
 "metadata": {
  "accelerator": "GPU",
  "colab": {
   "collapsed_sections": [],
   "name": "BERT_Fine_Tuning.ipynb",
   "provenance": []
  },
  "kernelspec": {
   "display_name": "Python 3",
   "language": "python",
   "name": "python3"
  },
  "language_info": {
   "codemirror_mode": {
    "name": "ipython",
    "version": 3
   },
   "file_extension": ".py",
   "mimetype": "text/x-python",
   "name": "python",
   "nbconvert_exporter": "python",
   "pygments_lexer": "ipython3",
   "version": "3.8.5"
  }
 },
 "nbformat": 4,
 "nbformat_minor": 1
}
